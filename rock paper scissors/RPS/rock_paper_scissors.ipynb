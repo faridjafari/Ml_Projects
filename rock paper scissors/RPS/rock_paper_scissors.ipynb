{
 "cells": [
  {
   "cell_type": "code",
   "execution_count": 23,
   "id": "10945693-fda3-4540-83b1-92514a1df97f",
   "metadata": {},
   "outputs": [],
   "source": [
    "import cv2\n",
    "import numpy as np\n",
    "import tensorflow as tf\n",
    "from tensorflow.keras.models import load_model\n",
    "import random\n"
   ]
  },
  {
   "cell_type": "code",
   "execution_count": 32,
   "id": "4cfc84d5-b972-4458-8aab-57eedee8883c",
   "metadata": {},
   "outputs": [
    {
     "name": "stdout",
     "output_type": "stream",
     "text": [
      "WARNING:tensorflow:No training configuration found in the save file, so the model was *not* compiled. Compile it manually.\n",
      "✅ مدل با موفقیت بارگذاری شد!\n"
     ]
    }
   ],
   "source": [
    "model = load_model(\"model/keras_model.h5\")\n",
    "\n",
    "labels = []\n",
    "with open(\"model/labels.txt\", \"r\", encoding=\"utf-8\") as f:\n",
    "    labels = [line.strip() for line in f.readlines()]\n",
    "\n",
    "print(\"✅ مدل با موفقیت بارگذاری شد!\")\n"
   ]
  },
  {
   "cell_type": "code",
   "execution_count": 25,
   "id": "8ba0a7f0-3542-44cb-ac85-8505ea3ef40c",
   "metadata": {},
   "outputs": [
    {
     "name": "stdout",
     "output_type": "stream",
     "text": [
      "✅ دوربین به درستی کار می‌کند!\n"
     ]
    }
   ],
   "source": [
    "cap = cv2.VideoCapture(0)\n",
    "if not cap.isOpened():\n",
    "    print(\"❌ خطا در باز کردن دوربین!\")\n",
    "else:\n",
    "    print(\"✅ دوربین به درستی کار می‌کند!\")\n",
    "cap.release()\n"
   ]
  },
  {
   "cell_type": "code",
   "execution_count": 26,
   "id": "deeb42d2-a71a-4796-aa50-6876b6b500df",
   "metadata": {},
   "outputs": [],
   "source": [
    "def get_prediction():\n",
    "    cap = cv2.VideoCapture(0)\n",
    "    if not cap.isOpened():\n",
    "        return None\n",
    "\n",
    "    ret, frame = cap.read()\n",
    "    if not ret:\n",
    "        return None\n",
    "\n",
    "    frame_resized = cv2.resize(frame, (224, 224))\n",
    "    frame_normalized = frame_resized.astype(np.float32) / 255.0\n",
    "    frame_expanded = np.expand_dims(frame_normalized, axis=0)\n",
    "\n",
    "    predictions = model.predict(frame_expanded)\n",
    "    class_index = np.argmax(predictions)\n",
    "    cap.release()\n",
    "\n",
    "    return labels[class_index]\n"
   ]
  },
  {
   "cell_type": "code",
   "execution_count": 33,
   "id": "18c4673b-3353-4ad4-a18f-4011e341e57b",
   "metadata": {},
   "outputs": [],
   "source": [
    "def determine_winner(player_move):\n",
    "    moves = [\"سنگ\", \"کاغذ\", \"قیچی\"]\n",
    "    computer_move = random.choice(moves)\n",
    "\n",
    "    print(f\"👤 بازیکن: {player_move}\")\n",
    "    print(f\"💻 کامپیوتر: {computer_move}\")\n",
    "\n",
    "    if player_move == computer_move:\n",
    "        return \"🤝 مساوی!\"\n",
    "    elif (player_move == \"سنگ\" and computer_move == \"قیچی\") or \\\n",
    "         (player_move == \"قیچی\" and computer_move == \"کاغذ\") or \\\n",
    "         (player_move == \"کاغذ\" and computer_move == \"سنگ\"):\n",
    "        return \"🎉 شما بردید!\"\n",
    "    else:\n",
    "        return \"😞 شما باختید!\"\n"
   ]
  },
  {
   "cell_type": "code",
   "execution_count": null,
   "id": "17a23ab6-c34d-466d-8f11-356509b1b1f4",
   "metadata": {},
   "outputs": [
    {
     "name": "stdout",
     "output_type": "stream",
     "text": [
      "🎮 بازی سنگ، کاغذ، قیچی شروع شد! برای خروج، دکمه 'q' را بزنید.\n"
     ]
    },
    {
     "name": "stdin",
     "output_type": "stream",
     "text": [
      "📸 برای گرفتن عکس و انجام بازی، Enter را فشار دهید... \n"
     ]
    },
    {
     "name": "stdout",
     "output_type": "stream",
     "text": [
      "1/1 [==============================] - 1s 827ms/step\n",
      "👤 بازیکن: کاغذ\n",
      "💻 کامپیوتر: قیچی\n",
      "😞 شما باختید!\n"
     ]
    },
    {
     "name": "stdin",
     "output_type": "stream",
     "text": [
      "⏭ برای ادامه Enter بزنید، برای خروج 'q' را بزنید:  \n",
      "📸 برای گرفتن عکس و انجام بازی، Enter را فشار دهید... \n"
     ]
    },
    {
     "name": "stdout",
     "output_type": "stream",
     "text": [
      "1/1 [==============================] - 0s 33ms/step\n",
      "👤 بازیکن: کاغذ\n",
      "💻 کامپیوتر: سنگ\n",
      "🎉 شما بردید!\n"
     ]
    },
    {
     "name": "stdin",
     "output_type": "stream",
     "text": [
      "⏭ برای ادامه Enter بزنید، برای خروج 'q' را بزنید:  \n",
      "📸 برای گرفتن عکس و انجام بازی، Enter را فشار دهید... \n"
     ]
    },
    {
     "name": "stdout",
     "output_type": "stream",
     "text": [
      "1/1 [==============================] - 0s 32ms/step\n",
      "👤 بازیکن: سنگ\n",
      "💻 کامپیوتر: سنگ\n",
      "🤝 مساوی!\n"
     ]
    }
   ],
   "source": [
    "print(\" بازی سنگ، کاغذ، قیچی شروع شد! برای خروج، دکمه 'q' را بزنید.\")\n",
    "\n",
    "while True:\n",
    "    input(\" برای گرفتن عکس و انجام بازی، Enter را فشار دهید...\")\n",
    "\n",
    "    player_move = get_prediction()\n",
    "    if not player_move:\n",
    "        print(\" مشکلی در دریافت تصویر از دوربین رخ داده است!\")\n",
    "        continue\n",
    "\n",
    "    result = determine_winner(player_move)\n",
    "    print(result)\n",
    "\n",
    "    if input(\"⏭ برای ادامه Enter بزنید، برای خروج 'q' را بزنید: \").strip().lower() == \"q\":\n",
    "        break\n",
    "\n",
    "print(\" بازی تمام شد! خداحافظ!\")\n"
   ]
  },
  {
   "cell_type": "code",
   "execution_count": null,
   "id": "e2d0cfc8-f697-474b-b889-5c4c87963592",
   "metadata": {},
   "outputs": [],
   "source": []
  }
 ],
 "metadata": {
  "kernelspec": {
   "display_name": "Python 3 (ipykernel)",
   "language": "python",
   "name": "python3"
  },
  "language_info": {
   "codemirror_mode": {
    "name": "ipython",
    "version": 3
   },
   "file_extension": ".py",
   "mimetype": "text/x-python",
   "name": "python",
   "nbconvert_exporter": "python",
   "pygments_lexer": "ipython3",
   "version": "3.11.3"
  }
 },
 "nbformat": 4,
 "nbformat_minor": 5
}
